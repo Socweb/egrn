{
 "cells": [
  {
   "cell_type": "code",
   "execution_count": 1,
   "id": "94c570ac",
   "metadata": {},
   "outputs": [
    {
     "name": "stdout",
     "output_type": "stream",
     "text": [
      "Collecting pyngrok\n",
      "  Downloading pyngrok-5.2.1.tar.gz (761 kB)\n",
      "\u001b[K     |████████████████████████████████| 761 kB 2.1 MB/s eta 0:00:01\n",
      "\u001b[?25hRequirement already satisfied: PyYAML in /home/flavius/anaconda3/lib/python3.9/site-packages (from pyngrok) (6.0)\n",
      "Building wheels for collected packages: pyngrok\n",
      "  Building wheel for pyngrok (setup.py) ... \u001b[?25ldone\n",
      "\u001b[?25h  Created wheel for pyngrok: filename=pyngrok-5.2.1-py3-none-any.whl size=19790 sha256=b91528443a9b8f32c28d059d62b3efb8783a6ac437312aedfa4012acda19e6b4\n",
      "  Stored in directory: /home/flavius/.cache/pip/wheels/f6/89/59/49d4249e00957e94813ac136a335d10ed2e09a856c5096f95c\n",
      "Successfully built pyngrok\n",
      "Installing collected packages: pyngrok\n",
      "Successfully installed pyngrok-5.2.1\n"
     ]
    }
   ],
   "source": [
    "! pip install pyngrok"
   ]
  },
  {
   "cell_type": "code",
   "execution_count": null,
   "id": "4f2fc50d",
   "metadata": {},
   "outputs": [
    {
     "name": "stdout",
     "output_type": "stream",
     "text": [
      "Authtoken saved to configuration file: /home/flavius/.ngrok2/ngrok.yml\r\n"
     ]
    }
   ],
   "source": [
    "from pyngrok import ngrok \n",
    "!ngrok authtoken 23k2y80Dx2ep2fdxZqw1lGgtiDR_73vTFXUjziyvHDw8j9noG\n",
    "!nohup streamlit run app.py --server.fileWatcherType none\n",
    "\n",
    "url = ngrok.connect(port = 8502)\n",
    "with open('somefile.txt', 'a') as the_file:\n",
    "    the_file.write(str(url))\n",
    "\n",
    "!streamlit run --server.port 80 app.py >/dev/null #used for starting our server"
   ]
  },
  {
   "cell_type": "code",
   "execution_count": 13,
   "id": "314a3410",
   "metadata": {},
   "outputs": [
    {
     "name": "stdout",
     "output_type": "stream",
     "text": [
      "/home/flavius/egrn_last\r\n"
     ]
    }
   ],
   "source": [
    "!pwd"
   ]
  },
  {
   "cell_type": "code",
   "execution_count": null,
   "id": "20aa8830",
   "metadata": {},
   "outputs": [],
   "source": []
  }
 ],
 "metadata": {
  "kernelspec": {
   "display_name": "Python 3 (ipykernel)",
   "language": "python",
   "name": "python3"
  },
  "language_info": {
   "codemirror_mode": {
    "name": "ipython",
    "version": 3
   },
   "file_extension": ".py",
   "mimetype": "text/x-python",
   "name": "python",
   "nbconvert_exporter": "python",
   "pygments_lexer": "ipython3",
   "version": "3.9.12"
  }
 },
 "nbformat": 4,
 "nbformat_minor": 5
}
